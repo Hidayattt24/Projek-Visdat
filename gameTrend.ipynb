{
 "cells": [
  {
   "cell_type": "markdown",
   "metadata": {},
   "source": [
    "# 📊 Penggabungan Dataset Steam dan IGDB\n",
    "\n",
    "## 1️⃣ Membaca Dataset\n",
    "Dataset yang digunakan:\n",
    "- **Steam Dataset** (`steam_games.csv`)\n",
    "- **IGDB Dataset** (`IGN games from best to worst.csv`)\n",
    "\n",
    "Kode berikut digunakan untuk membaca dataset dan menampilkan 5 baris pertama dari masing-masing:"
   ]
  },
  {
   "cell_type": "code",
   "execution_count": 7,
   "metadata": {},
   "outputs": [
    {
     "name": "stdout",
     "output_type": "stream",
     "text": [
      "\n",
      "=== Steam Dataset ===\n",
      "            Name Published Date Original Price Discount Price   Reviews  \\\n",
      "0     Schedule I   Mar 24, 2025         $19.99         $16.99   16703.0   \n",
      "1          inZOI   Mar 27, 2025            NaN         $39.99    5513.0   \n",
      "2       R.E.P.O.   Feb 26, 2025            NaN          $9.99   59865.0   \n",
      "3  Marvel Rivals    Dec 5, 2024            NaN           Free  253579.0   \n",
      "4     Steam Deck   Jan 17, 2025            NaN        $399.00       NaN   \n",
      "\n",
      "  Search Query  \n",
      "0   topsellers  \n",
      "1   topsellers  \n",
      "2   topsellers  \n",
      "3   topsellers  \n",
      "4   topsellers  \n",
      "\n",
      "=== IGDB Dataset ===\n",
      "                 title  score score_phrase        platform              genre  \\\n",
      "0       Checkered Flag   10.0  Masterpiece            Lynx             Racing   \n",
      "1       Chrono Trigger   10.0  Masterpiece             Wii        Action, RPG   \n",
      "2   Dragon Warrior III   10.0  Masterpiece  Game Boy Color                RPG   \n",
      "3  Grand Theft Auto IV   10.0  Masterpiece        Xbox 360  Action, Adventure   \n",
      "4  Grand Theft Auto IV   10.0  Masterpiece   PlayStation 3  Action, Adventure   \n",
      "\n",
      "   release_year  release_month  release_day  \n",
      "0          1999              7            6  \n",
      "1          2011              5           25  \n",
      "2          2001              7           20  \n",
      "3          2008              4           25  \n",
      "4          2008              4           25  \n"
     ]
    }
   ],
   "source": [
    "import pandas as pd\n",
    "\n",
    "# Path file yang diunggah\n",
    "steam_file_path = \"./data/steam_games.csv\"\n",
    "igdb_file_path = \"./data/IGN games from best to worst.csv\"\n",
    "\n",
    "df_steam = pd.read_csv(steam_file_path)\n",
    "df_igdb = pd.read_csv(igdb_file_path)\n",
    "\n",
    "# Menampilkan 5 baris pertama dari masing-masing dataset\n",
    "print(\"\\n=== Steam Dataset ===\")\n",
    "print(df_steam.head())\n",
    "print(\"\\n=== IGDB Dataset ===\")\n",
    "print(df_igdb.head())"
   ]
  },
  {
   "cell_type": "markdown",
   "metadata": {},
   "source": [
    "## 2️⃣ Normalisasi Nama Game\n",
    "Untuk memastikan pencocokan lebih akurat, kita normalisasi kolom nama game:"
   ]
  },
  {
   "cell_type": "code",
   "execution_count": 8,
   "metadata": {},
   "outputs": [],
   "source": [
    "df_steam[\"Name\"] = df_steam[\"Name\"].str.strip().str.lower()\n",
    "df_igdb[\"title\"] = df_igdb[\"title\"].str.strip().str.lower()"
   ]
  },
  {
   "cell_type": "markdown",
   "metadata": {},
   "source": [
    "## 3️⃣ Penggabungan Dataset\n",
    "Menggunakan **outer join** agar semua game dari kedua dataset tetap masuk:"
   ]
  },
  {
   "cell_type": "code",
   "execution_count": 9,
   "metadata": {},
   "outputs": [],
   "source": [
    "df_merged = df_steam.merge(df_igdb, left_on=\"Name\", right_on=\"title\", how=\"outer\")\n",
    "\n",
    "# Hapus kolom duplikat setelah penggabungan\n",
    "df_merged = df_merged.drop(columns=[\"title\"], errors='ignore')"
   ]
  },
  {
   "cell_type": "markdown",
   "metadata": {},
   "source": [
    "## 4️⃣ Menyimpan Dataset Hasil Gabungan\n",
    "Dataset hasil penggabungan disimpan dalam format CSV:"
   ]
  },
  {
   "cell_type": "code",
   "execution_count": 10,
   "metadata": {},
   "outputs": [
    {
     "name": "stdout",
     "output_type": "stream",
     "text": [
      "\n",
      "Dataset berhasil digabung! Total baris: 28262\n"
     ]
    }
   ],
   "source": [
    "merged_file_path = \"./data/dataClean/merged_steam_igdb.csv\"\n",
    "df_merged.to_csv(merged_file_path, index=False)\n",
    "print(f\"\\nDataset berhasil digabung! Total baris: {df_merged.shape[0]}\")"
   ]
  },
  {
   "cell_type": "markdown",
   "metadata": {},
   "source": [
    "✅ Dengan metode ini, kita mendapatkan dataset yang lebih lengkap untuk analisis lebih lanjut!"
   ]
  },
  {
   "cell_type": "markdown",
   "metadata": {},
   "source": [
    "## 📌 5️⃣ Pertanyaan yang Bisa Dijawab dengan Visualisasi\n",
    "Dengan dataset ini, kita bisa menjawab beberapa pertanyaan berikut menggunakan visualisasi:\n",
    "\n",
    "📊 **Game apa yang paling populer di Steam dalam 1 tahun terakhir?**\n",
    "   - Menggunakan jumlah pemain aktif dan ulasan dari Steam.\n",
    "\n",
    "📊 **Bagaimana tren jumlah pemain untuk game tertentu?**\n",
    "   - Analisis tren berdasarkan jumlah pemain dari waktu ke waktu.\n",
    "\n",
    "📊 **Genre game apa yang paling banyak dimainkan di tahun 2024?**\n",
    "   - Menganalisis genre berdasarkan jumlah pemain dan popularitas.\n",
    "\n",
    "📊 **Korelasi antara rating Metacritic dan jumlah pemain?**\n",
    "   - Menggunakan data skor Metacritic dari IGDB untuk melihat apakah game dengan rating tinggi memiliki lebih banyak pemain.\n",
    "\n",
    "📊 **Bagaimana hype game di Reddit/Twitter sebelum dan setelah rilis?**\n",
    "   - Bisa ditambahkan dataset dari API sosial media untuk menganalisis tren percakapan sebelum dan setelah peluncuran game."
   ]
  },
  {
   "cell_type": "markdown",
   "metadata": {},
   "source": []
  }
 ],
 "metadata": {
  "kernelspec": {
   "display_name": "Python 3",
   "language": "python",
   "name": "python3"
  },
  "language_info": {
   "codemirror_mode": {
    "name": "ipython",
    "version": 3
   },
   "file_extension": ".py",
   "mimetype": "text/x-python",
   "name": "python",
   "nbconvert_exporter": "python",
   "pygments_lexer": "ipython3",
   "version": "3.10.7"
  }
 },
 "nbformat": 4,
 "nbformat_minor": 2
}
